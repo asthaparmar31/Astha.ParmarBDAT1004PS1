{
 "cells": [
  {
   "cell_type": "markdown",
   "id": "c94dcc2e",
   "metadata": {},
   "source": [
    "Question 1"
   ]
  },
  {
   "cell_type": "code",
   "execution_count": null,
   "id": "b826ccf6",
   "metadata": {},
   "outputs": [],
   "source": [
    "//5 is an integer (int) .\n",
    "//5.0 is a floating datatype(float) .\n",
    "//5>1 is a boolean(bool) .\n",
    "//'5' is a character/string(char) .\n",
    "//5*2 is an integer(int).\n",
    "//'5'*2 is not valid because one is char and 2 is int.\n",
    "//'5'+'2' is string.\n",
    "//5/2 is double.\n",
    "//5%2 is  integer(int).\n",
    "//{5,2,1} is array.\n",
    "//5==3 is boolean.\n",
    "//Pi(the number )is double datatype."
   ]
  },
  {
   "cell_type": "markdown",
   "id": "d75c8545",
   "metadata": {},
   "source": [
    "Question 2"
   ]
  },
  {
   "cell_type": "code",
   "execution_count": 2,
   "id": "86844410",
   "metadata": {},
   "outputs": [
    {
     "ename": "SyntaxError",
     "evalue": "invalid syntax (2985162790.py, line 3)",
     "output_type": "error",
     "traceback": [
      "\u001b[1;36m  File \u001b[1;32m\"C:\\Users\\astha\\AppData\\Local\\Temp\\ipykernel_7272\\2985162790.py\"\u001b[1;36m, line \u001b[1;32m3\u001b[0m\n\u001b[1;33m    if (originalString.Contains(\"ice\") == true)//whether ice is a substring\u001b[0m\n\u001b[1;37m                                                         ^\u001b[0m\n\u001b[1;31mSyntaxError\u001b[0m\u001b[1;31m:\u001b[0m invalid syntax\n"
     ]
    }
   ],
   "source": [
    "string originalString = \"Supercalifragilisticexpialidocious\";\n",
    " Console.WriteLine(\"String: \" + originalString);\n",
    " Console.WriteLine(\"String Length: \"+ originalString.Length);\n",
    " if (originalString.Contains(\"ice\") == true)//whether ice is a substring\n",
    " { \n",
    " Console.WriteLine(\"Yes,ice is a substring\");\n",
    " }\n",
    " else\n",
    " {\n",
    " Console.WriteLine(\"No,ice is not a substring\");\n",
    " }"
   ]
  },
  {
   "cell_type": "code",
   "execution_count": null,
   "id": "c4ece23c",
   "metadata": {},
   "outputs": [],
   "source": [
    "Question 3"
   ]
  }
 ],
 "metadata": {
  "kernelspec": {
   "display_name": "Python 3 (ipykernel)",
   "language": "python",
   "name": "python3"
  },
  "language_info": {
   "codemirror_mode": {
    "name": "ipython",
    "version": 3
   },
   "file_extension": ".py",
   "mimetype": "text/x-python",
   "name": "python",
   "nbconvert_exporter": "python",
   "pygments_lexer": "ipython3",
   "version": "3.9.13"
  }
 },
 "nbformat": 4,
 "nbformat_minor": 5
}
