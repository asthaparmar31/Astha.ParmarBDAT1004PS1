{
 "cells": [
  {
   "cell_type": "markdown",
   "id": "ca4e4f70",
   "metadata": {},
   "source": [
    "Question 6"
   ]
  },
  {
   "cell_type": "code",
   "execution_count": 5,
   "id": "7a6fe995",
   "metadata": {},
   "outputs": [
    {
     "name": "stdout",
     "output_type": "stream",
     "text": [
      "Type anything!! astha\n",
      "asthaway\n"
     ]
    }
   ],
   "source": [
    "def pig():\n",
    "    w = input(\"Type anything!! \")\n",
    "    lower_w = w.lower()\n",
    "    letter = lower_w[0]\n",
    "    if letter in 'aeiou':\n",
    "        return w + \"way\"\n",
    "    else:\n",
    "        return lower_w[1:] + letter + \"ay\"\n",
    "\n",
    "print(pig())"
   ]
  },
  {
   "cell_type": "markdown",
   "id": "7df8b7a7",
   "metadata": {},
   "source": [
    "Question 7"
   ]
  },
  {
   "cell_type": "code",
   "execution_count": 3,
   "id": "898eab0f",
   "metadata": {},
   "outputs": [
    {
     "name": "stdout",
     "output_type": "stream",
     "text": [
      "There are 15 patients of blood type A\n",
      "There are 1 patients of blood type B\n",
      "There are 13 patients of blood type AB\n",
      "There are 15 patients of blood type O\n",
      "There are 0 patients of blood type OO\n"
     ]
    }
   ],
   "source": [
    "def bloodcount(bloodfile):\n",
    "  count_A = 0\n",
    "  count_B = 0\n",
    "  count_O = 0\n",
    "  count_AB = 0\n",
    "  count_OO = 0\n",
    "  for blood in bloodfile:\n",
    "    bloodtypes = blood.strip().split()\n",
    "    for bloodtype in bloodtypes:\n",
    "      if bloodtype == 'A':\n",
    "        count_A += 1\n",
    "      elif bloodtype == 'B':\n",
    "        count_B += 1\n",
    "      elif bloodtype == 'AB':\n",
    "        count_AB += 1\n",
    "      elif bloodtype == 'OO':\n",
    "        count_OO += 1\n",
    "      elif bloodtype == 'O':\n",
    "        count_O += 1\n",
    "\n",
    "  print(\"There are\", count_A, \"patients of blood type A\")\n",
    "  print(\"There are\", count_B, \"patients of blood type B\")\n",
    "  print(\"There are\", count_AB, \"patients of blood type AB\")\n",
    "  print(\"There are\", count_O, \"patients of blood type O\")\n",
    "  print(\"There are\", count_OO, \"patients of blood type OO\")\n",
    "\n",
    "bloodfile = open(\"bloodtype.txt\")\n",
    "bloodcount(bloodfile)"
   ]
  },
  {
   "cell_type": "markdown",
   "id": "1538557c",
   "metadata": {},
   "source": [
    "Question 8"
   ]
  },
  {
   "cell_type": "code",
   "execution_count": 3,
   "id": "d512f21d",
   "metadata": {},
   "outputs": [
    {
     "name": "stdout",
     "output_type": "stream",
     "text": [
      "122.96544\n",
      "1.241401\n"
     ]
    }
   ],
   "source": [
    "def curconv(Currency, Amount):\n",
    "    openfile=open('currencies.txt',\"r\")\n",
    "    readfile=openfile.readlines()\n",
    "    #print(readfile)\n",
    "    for line in readfile:\n",
    "        #print(line)\n",
    "        spl=line.split('\\t')\n",
    "        if(Currency==spl[0]):\n",
    "            Currency=float(spl[1])*Amount\n",
    "            return Currency\n",
    "        \n",
    "        \n",
    "        \n",
    "        \n",
    "        #print('JPY,100')\n",
    "print(curconv('EUR',100))\n",
    "print(curconv('JPY',100))"
   ]
  },
  {
   "cell_type": "markdown",
   "id": "ab54e129",
   "metadata": {},
   "source": [
    "Question 9"
   ]
  },
  {
   "cell_type": "code",
   "execution_count": 6,
   "id": "643bc4ac",
   "metadata": {},
   "outputs": [
    {
     "ename": "TypeError",
     "evalue": "unsupported operand type(s) for +: 'int' and 'str'",
     "output_type": "error",
     "traceback": [
      "\u001b[1;31m---------------------------------------------------------------------------\u001b[0m",
      "\u001b[1;31mTypeError\u001b[0m                                 Traceback (most recent call last)",
      "\u001b[1;32m~\\AppData\\Local\\Temp\\ipykernel_10848\\1898626349.py\u001b[0m in \u001b[0;36m<module>\u001b[1;34m\u001b[0m\n\u001b[1;32m----> 1\u001b[1;33m \u001b[0mprint\u001b[0m\u001b[1;33m(\u001b[0m\u001b[1;36m9\u001b[0m\u001b[1;33m+\u001b[0m\u001b[1;34m\"a\"\u001b[0m\u001b[1;33m)\u001b[0m\u001b[1;33m\u001b[0m\u001b[1;33m\u001b[0m\u001b[0m\n\u001b[0m",
      "\u001b[1;31mTypeError\u001b[0m: unsupported operand type(s) for +: 'int' and 'str'"
     ]
    }
   ],
   "source": [
    "print(9+\"a\")\n"
   ]
  },
  {
   "cell_type": "code",
   "execution_count": 8,
   "id": "90e6333b",
   "metadata": {},
   "outputs": [
    {
     "ename": "NameError",
     "evalue": "name 'number' is not defined",
     "output_type": "error",
     "traceback": [
      "\u001b[1;31m---------------------------------------------------------------------------\u001b[0m",
      "\u001b[1;31mNameError\u001b[0m                                 Traceback (most recent call last)",
      "\u001b[1;32m~\\AppData\\Local\\Temp\\ipykernel_10848\\2235067047.py\u001b[0m in \u001b[0;36m<module>\u001b[1;34m\u001b[0m\n\u001b[0;32m      1\u001b[0m \u001b[0minteger_number\u001b[0m\u001b[1;33m=\u001b[0m\u001b[1;33m[\u001b[0m\u001b[1;36m5\u001b[0m\u001b[1;33m,\u001b[0m\u001b[1;36m7\u001b[0m\u001b[1;33m,\u001b[0m\u001b[1;36m8\u001b[0m\u001b[1;33m,\u001b[0m\u001b[1;36m9\u001b[0m\u001b[1;33m]\u001b[0m\u001b[1;33m\u001b[0m\u001b[1;33m\u001b[0m\u001b[0m\n\u001b[1;32m----> 2\u001b[1;33m \u001b[0mprint\u001b[0m\u001b[1;33m(\u001b[0m\u001b[0mnumber\u001b[0m\u001b[1;33m(\u001b[0m\u001b[1;36m10\u001b[0m\u001b[1;33m)\u001b[0m\u001b[1;33m)\u001b[0m\u001b[1;33m\u001b[0m\u001b[1;33m\u001b[0m\u001b[0m\n\u001b[0m",
      "\u001b[1;31mNameError\u001b[0m: name 'number' is not defined"
     ]
    }
   ],
   "source": [
    "integer_number=[5,7,8,9]\n",
    "print(number(10))"
   ]
  },
  {
   "cell_type": "code",
   "execution_count": 9,
   "id": "ca808525",
   "metadata": {},
   "outputs": [
    {
     "ename": "ValueError",
     "evalue": "list.remove(x): x not in list",
     "output_type": "error",
     "traceback": [
      "\u001b[1;31m---------------------------------------------------------------------------\u001b[0m",
      "\u001b[1;31mValueError\u001b[0m                                Traceback (most recent call last)",
      "\u001b[1;32m~\\AppData\\Local\\Temp\\ipykernel_10848\\521470594.py\u001b[0m in \u001b[0;36m<module>\u001b[1;34m\u001b[0m\n\u001b[0;32m      1\u001b[0m \u001b[0mcountries\u001b[0m\u001b[1;33m=\u001b[0m\u001b[1;33m[\u001b[0m\u001b[1;34m\"hongkong\"\u001b[0m\u001b[1;33m,\u001b[0m\u001b[1;34m\"china\"\u001b[0m\u001b[1;33m]\u001b[0m\u001b[1;33m\u001b[0m\u001b[1;33m\u001b[0m\u001b[0m\n\u001b[1;32m----> 2\u001b[1;33m \u001b[0mcountries\u001b[0m\u001b[1;33m.\u001b[0m\u001b[0mremove\u001b[0m\u001b[1;33m(\u001b[0m\u001b[1;34m\"canada\"\u001b[0m\u001b[1;33m)\u001b[0m\u001b[1;33m\u001b[0m\u001b[1;33m\u001b[0m\u001b[0m\n\u001b[0m",
      "\u001b[1;31mValueError\u001b[0m: list.remove(x): x not in list"
     ]
    }
   ],
   "source": [
    "countries=[\"hongkong\",\"china\"]\n",
    "countries.remove(\"canada\")"
   ]
  },
  {
   "cell_type": "code",
   "execution_count": 10,
   "id": "d5260b3d",
   "metadata": {},
   "outputs": [
    {
     "ename": "NameError",
     "evalue": "name 'h' is not defined",
     "output_type": "error",
     "traceback": [
      "\u001b[1;31m---------------------------------------------------------------------------\u001b[0m",
      "\u001b[1;31mNameError\u001b[0m                                 Traceback (most recent call last)",
      "\u001b[1;32m~\\AppData\\Local\\Temp\\ipykernel_10848\\1097954970.py\u001b[0m in \u001b[0;36m<module>\u001b[1;34m\u001b[0m\n\u001b[1;32m----> 1\u001b[1;33m \u001b[0mprint\u001b[0m\u001b[1;33m(\u001b[0m\u001b[0mh\u001b[0m\u001b[1;33m(\u001b[0m\u001b[1;36m7\u001b[0m\u001b[1;33m)\u001b[0m\u001b[1;33m)\u001b[0m\u001b[1;33m\u001b[0m\u001b[1;33m\u001b[0m\u001b[0m\n\u001b[0m",
      "\u001b[1;31mNameError\u001b[0m: name 'h' is not defined"
     ]
    }
   ],
   "source": [
    "print(h(7))"
   ]
  },
  {
   "cell_type": "code",
   "execution_count": 11,
   "id": "09cc1e7c",
   "metadata": {},
   "outputs": [
    {
     "ename": "FileNotFoundError",
     "evalue": "[Errno 2] No such file or directory: 'astha.txt'",
     "output_type": "error",
     "traceback": [
      "\u001b[1;31m---------------------------------------------------------------------------\u001b[0m",
      "\u001b[1;31mFileNotFoundError\u001b[0m                         Traceback (most recent call last)",
      "\u001b[1;32m~\\AppData\\Local\\Temp\\ipykernel_10848\\3000072593.py\u001b[0m in \u001b[0;36m<module>\u001b[1;34m\u001b[0m\n\u001b[1;32m----> 1\u001b[1;33m \u001b[0mopen\u001b[0m\u001b[1;33m(\u001b[0m\u001b[1;34m\"astha.txt\"\u001b[0m\u001b[1;33m)\u001b[0m\u001b[1;33m\u001b[0m\u001b[1;33m\u001b[0m\u001b[0m\n\u001b[0m",
      "\u001b[1;31mFileNotFoundError\u001b[0m: [Errno 2] No such file or directory: 'astha.txt'"
     ]
    }
   ],
   "source": [
    "open(\"astha.txt\")"
   ]
  },
  {
   "cell_type": "markdown",
   "id": "1f7c175c",
   "metadata": {},
   "source": [
    "Question 10"
   ]
  },
  {
   "cell_type": "code",
   "execution_count": 12,
   "id": "ae85d727",
   "metadata": {},
   "outputs": [
    {
     "name": "stdout",
     "output_type": "stream",
     "text": [
      "Enter anythingThe quick red fox got bored and went home.\n",
      "[1, 1, 1, 3, 5, 1, 1, 2, 1, 0, 1, 0, 1, 2, 4, 0, 1, 2, 0, 3, 1, 0, 1, 1, 0, 0]\n"
     ]
    }
   ],
   "source": [
    "def frequencies():\n",
    "    type = input(\"Enter anything\")\n",
    "    list = \"abcdefghijklmnopqrstuvwxyz\"\n",
    "    alphabets = [0] * 26\n",
    "    for a in type:\n",
    "        if a.lower() in list:\n",
    "            index = list.index(a.lower())\n",
    "            alphabets[index] += 1\n",
    "    return alphabets\n",
    "\n",
    "\n",
    "print(frequencies())"
   ]
  },
  {
   "cell_type": "code",
   "execution_count": null,
   "id": "c069d56c",
   "metadata": {},
   "outputs": [],
   "source": []
  }
 ],
 "metadata": {
  "kernelspec": {
   "display_name": "Python 3 (ipykernel)",
   "language": "python",
   "name": "python3"
  },
  "language_info": {
   "codemirror_mode": {
    "name": "ipython",
    "version": 3
   },
   "file_extension": ".py",
   "mimetype": "text/x-python",
   "name": "python",
   "nbconvert_exporter": "python",
   "pygments_lexer": "ipython3",
   "version": "3.9.13"
  }
 },
 "nbformat": 4,
 "nbformat_minor": 5
}
